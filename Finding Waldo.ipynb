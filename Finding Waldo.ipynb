{
 "cells": [
  {
   "cell_type": "code",
   "execution_count": 1,
   "metadata": {},
   "outputs": [],
   "source": [
    "from skimage import exposure\n",
    "from skimage import feature\n",
    "import xml.etree.ElementTree as ET\n",
    "import cv2\n",
    "import numpy as np\n",
    "import os\n",
    "from matplotlib import pyplot as plt\n",
    "from pprint import pprint\n",
    "from voc_eval import parse_rec\n",
    "from train_img_generator import TrainImageGenerator"
   ]
  },
  {
   "cell_type": "code",
   "execution_count": 2,
   "metadata": {},
   "outputs": [],
   "source": [
    "%load_ext autoreload\n",
    "%autoreload 2"
   ]
  },
  {
   "cell_type": "code",
   "execution_count": 3,
   "metadata": {},
   "outputs": [],
   "source": [
    "with open('datasets/ImageSets/train.txt', 'r') as train_text:\n",
    "    train_image_indices = train_text.read().strip().split('\\n')\n",
    "\n",
    "training_annotation_path = 'datasets/Annotations/{}.xml'\n",
    "training_annotations_dict = {\n",
    "    'waldo': {},\n",
    "    'wenda': {},\n",
    "    'wizard': {}\n",
    "}\n",
    "\n",
    "for train_image_index in train_image_indices:\n",
    "    annotation_path = training_annotation_path.format(train_image_index)\n",
    "    for label in parse_rec(annotation_path):\n",
    "        target = label['name']\n",
    "        bbox = label['bbox']\n",
    "        if train_image_index not in training_annotations_dict[target]:\n",
    "            training_annotations_dict[target][train_image_index] = [bbox]\n",
    "        else:\n",
    "            training_annotations_dict[target][train_image_index].append(bbox)"
   ]
  },
  {
   "cell_type": "code",
   "execution_count": 4,
   "metadata": {},
   "outputs": [],
   "source": [
    "for target in training_annotations_dict.keys():\n",
    "    training_image_generator = TrainImageGenerator(target, training_annotations_dict[target])\n",
    "    training_image_generator.generate_training_images()"
   ]
  },
  {
   "cell_type": "code",
   "execution_count": null,
   "metadata": {},
   "outputs": [],
   "source": []
  }
 ],
 "metadata": {
  "kernelspec": {
   "display_name": "Python 3",
   "language": "python",
   "name": "python3"
  },
  "language_info": {
   "codemirror_mode": {
    "name": "ipython",
    "version": 3
   },
   "file_extension": ".py",
   "mimetype": "text/x-python",
   "name": "python",
   "nbconvert_exporter": "python",
   "pygments_lexer": "ipython3",
   "version": "3.7.5"
  }
 },
 "nbformat": 4,
 "nbformat_minor": 2
}
